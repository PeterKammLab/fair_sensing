{
 "cells": [
  {
   "cell_type": "markdown",
   "metadata": {},
   "source": [
    "### Libraries"
   ]
  },
  {
   "cell_type": "code",
   "execution_count": 1,
   "metadata": {},
   "outputs": [],
   "source": [
    "import pandas as pd\n",
    "import numpy as np"
   ]
  },
  {
   "cell_type": "markdown",
   "metadata": {},
   "source": [
    "### Small idea - find best top 10 based on few parameters\n",
    "### ***PAPER for discussion each column / optmization can be weighted! for policy makers / urbanists \n",
    "\n",
    "- separate script\n",
    "- e.g. top 100 - give points \n",
    "- add at least top 25! \n"
   ]
  },
  {
   "cell_type": "markdown",
   "metadata": {},
   "source": [
    "# FUNCTION"
   ]
  },
  {
   "cell_type": "markdown",
   "metadata": {},
   "source": [
    "### INPUT DATA: combined_df \n",
    "### OUTPUT DATA: combined vehicles (based on chosen columns)"
   ]
  },
  {
   "cell_type": "code",
   "execution_count": 36,
   "metadata": {},
   "outputs": [],
   "source": [
    "def compute_combined_optimization_scores(combined_df, columns=None, top_n=10):\n",
    "    \"\"\"\n",
    "    Compute combined ranking scores from multiple optimization results.\n",
    "\n",
    "    Parameters:\n",
    "    - combined_df : DataFrame with optimization results (columns of ranked vehicle IDs).\n",
    "    - columns     : Optional list of column names to use for scoring. If None, uses default set.\n",
    "    - top_n       : Number of top vehicle IDs to return in the final output.\n",
    "\n",
    "    Returns:\n",
    "    - scores_df   : Full score table with optimization memberships.\n",
    "    - top_n_df    : Top N vehicle IDs in a one-column DataFrame named 'combined_opt'.\n",
    "    \"\"\"\n",
    "    if columns is None:\n",
    "        columns = ['max_spatial', 'max_A_inhab', 'max_point_count', 'closest_vehicle_closest']\n",
    "\n",
    "    df_sel = combined_df[columns].copy()\n",
    "    n = len(df_sel)\n",
    "\n",
    "    scores = {}\n",
    "    for method in df_sel.columns:\n",
    "        for rank, vid in enumerate(df_sel[method]):\n",
    "            points = n - rank\n",
    "            scores[vid] = scores.get(vid, 0) + points\n",
    "\n",
    "    methods_map = {\n",
    "        vid: [method for method in df_sel.columns if vid in df_sel[method].values]\n",
    "        for vid in scores\n",
    "    }\n",
    "\n",
    "    scores_df = pd.DataFrame.from_dict(scores, orient='index', columns=['score'])\n",
    "    scores_df['optimizations'] = scores_df.index.map(methods_map)\n",
    "    scores_df = scores_df.sort_values('score', ascending=False)\n",
    "\n",
    "    top_n_df = scores_df.head(top_n).reset_index()[['index']].rename(columns={'index': 'combined_opt'})\n",
    "    return scores_df, top_n_df\n"
   ]
  },
  {
   "cell_type": "code",
   "execution_count": 42,
   "metadata": {},
   "outputs": [],
   "source": [
    "# combined_df is list of all! startingwith that to evalueat\n",
    "# only these cloest_\n",
    "\n",
    "combined_df = pd.read_csv(\"data/combined_vehicles_1503.csv\")"
   ]
  },
  {
   "cell_type": "code",
   "execution_count": 43,
   "metadata": {},
   "outputs": [],
   "source": [
    "scores_combined_df, top_combined_final = compute_combined_optimization_scores(combined_df)"
   ]
  },
  {
   "cell_type": "code",
   "execution_count": 45,
   "metadata": {},
   "outputs": [
    {
     "data": {
      "text/html": [
       "<div>\n",
       "<style scoped>\n",
       "    .dataframe tbody tr th:only-of-type {\n",
       "        vertical-align: middle;\n",
       "    }\n",
       "\n",
       "    .dataframe tbody tr th {\n",
       "        vertical-align: top;\n",
       "    }\n",
       "\n",
       "    .dataframe thead th {\n",
       "        text-align: right;\n",
       "    }\n",
       "</style>\n",
       "<table border=\"1\" class=\"dataframe\">\n",
       "  <thead>\n",
       "    <tr style=\"text-align: right;\">\n",
       "      <th></th>\n",
       "      <th>score</th>\n",
       "      <th>optimizations</th>\n",
       "    </tr>\n",
       "  </thead>\n",
       "  <tbody>\n",
       "    <tr>\n",
       "      <th>2268.0_GVB</th>\n",
       "      <td>58</td>\n",
       "      <td>[max_spatial, max_A_inhab, closest_vehicle_clo...</td>\n",
       "    </tr>\n",
       "    <tr>\n",
       "      <th>1921.0_GVB</th>\n",
       "      <td>50</td>\n",
       "      <td>[max_spatial, max_A_inhab]</td>\n",
       "    </tr>\n",
       "    <tr>\n",
       "      <th>309.0_GVB</th>\n",
       "      <td>35</td>\n",
       "      <td>[max_spatial, max_A_inhab]</td>\n",
       "    </tr>\n",
       "    <tr>\n",
       "      <th>2060.0_GVB</th>\n",
       "      <td>32</td>\n",
       "      <td>[max_point_count, closest_vehicle_closest]</td>\n",
       "    </tr>\n",
       "    <tr>\n",
       "      <th>310.0_GVB</th>\n",
       "      <td>31</td>\n",
       "      <td>[max_spatial, max_point_count]</td>\n",
       "    </tr>\n",
       "    <tr>\n",
       "      <th>...</th>\n",
       "      <td>...</td>\n",
       "      <td>...</td>\n",
       "    </tr>\n",
       "    <tr>\n",
       "      <th>2263.0_GVB</th>\n",
       "      <td>2</td>\n",
       "      <td>[max_A_inhab]</td>\n",
       "    </tr>\n",
       "    <tr>\n",
       "      <th>333.0_GVB</th>\n",
       "      <td>2</td>\n",
       "      <td>[max_point_count]</td>\n",
       "    </tr>\n",
       "    <tr>\n",
       "      <th>1104.0_GVB</th>\n",
       "      <td>1</td>\n",
       "      <td>[max_spatial]</td>\n",
       "    </tr>\n",
       "    <tr>\n",
       "      <th>2267.0_GVB</th>\n",
       "      <td>1</td>\n",
       "      <td>[max_A_inhab]</td>\n",
       "    </tr>\n",
       "    <tr>\n",
       "      <th>2106.0_GVB</th>\n",
       "      <td>1</td>\n",
       "      <td>[max_point_count]</td>\n",
       "    </tr>\n",
       "  </tbody>\n",
       "</table>\n",
       "<p>85 rows × 2 columns</p>\n",
       "</div>"
      ],
      "text/plain": [
       "            score                                      optimizations\n",
       "2268.0_GVB     58  [max_spatial, max_A_inhab, closest_vehicle_clo...\n",
       "1921.0_GVB     50                         [max_spatial, max_A_inhab]\n",
       "309.0_GVB      35                         [max_spatial, max_A_inhab]\n",
       "2060.0_GVB     32         [max_point_count, closest_vehicle_closest]\n",
       "310.0_GVB      31                     [max_spatial, max_point_count]\n",
       "...           ...                                                ...\n",
       "2263.0_GVB      2                                      [max_A_inhab]\n",
       "333.0_GVB       2                                  [max_point_count]\n",
       "1104.0_GVB      1                                      [max_spatial]\n",
       "2267.0_GVB      1                                      [max_A_inhab]\n",
       "2106.0_GVB      1                                  [max_point_count]\n",
       "\n",
       "[85 rows x 2 columns]"
      ]
     },
     "execution_count": 45,
     "metadata": {},
     "output_type": "execute_result"
    }
   ],
   "source": [
    "scores_combined_df"
   ]
  },
  {
   "cell_type": "code",
   "execution_count": 40,
   "metadata": {},
   "outputs": [],
   "source": [
    "# export to csv\n",
    "#top10_final.to_csv('data/optimized_combined_1503.csv', index=False)\n"
   ]
  }
 ],
 "metadata": {
  "kernelspec": {
   "display_name": "sensing_env",
   "language": "python",
   "name": "python3"
  },
  "language_info": {
   "codemirror_mode": {
    "name": "ipython",
    "version": 3
   },
   "file_extension": ".py",
   "mimetype": "text/x-python",
   "name": "python",
   "nbconvert_exporter": "python",
   "pygments_lexer": "ipython3",
   "version": "3.12.3"
  }
 },
 "nbformat": 4,
 "nbformat_minor": 2
}
