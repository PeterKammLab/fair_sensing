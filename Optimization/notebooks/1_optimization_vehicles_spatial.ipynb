{
 "cells": [
  {
   "cell_type": "markdown",
   "metadata": {},
   "source": [
    "#### Import Libraries"
   ]
  },
  {
   "cell_type": "code",
   "execution_count": 1,
   "metadata": {},
   "outputs": [],
   "source": [
    "import pandas as pd\n",
    "import geopandas as gpd\n",
    "import matplotlib.pyplot as plt\n",
    "import seaborn as sns\n",
    "from scipy.spatial.distance import euclidean\n",
    "import numpy as np\n",
    "import math"
   ]
  },
  {
   "cell_type": "markdown",
   "metadata": {},
   "source": [
    "## Maximal Spatial Coverage\n",
    "Different cell IDs (heuristics) "
   ]
  },
  {
   "cell_type": "markdown",
   "metadata": {},
   "source": [
    "### Function Optmization Find with most unique cells"
   ]
  },
  {
   "cell_type": "code",
   "execution_count": null,
   "metadata": {},
   "outputs": [],
   "source": [
    "# STEP 1 ADD TITUS OPTIMIYATION AND FINISh\n",
    "\n",
    "# Define a function to identify the group with the largest increase in coverage\n",
    "\n",
    "def find_next_group(gdf, covered_poly_ids):\n",
    "\n",
    "\n",
    "    \"\"\" The find_next_group function is designed to identify the next group of data that maximizes the increase in coverage based on a set of previously covered polygons.\n",
    "    The polygons are IDs in the table. \"\"\" \n",
    "\n",
    "    max_increase = -1\n",
    "    next_group = None\n",
    "\n",
    "    # Group by 'uni_id' and iterate over groups\n",
    "    for uni_id, group in gdf.groupby('uni_id'):\n",
    "        # Get unique poly_ids for current uni_id\n",
    "        unique_poly_ids = set(group['id'].unique())\n",
    "\n",
    "        # Calculate non-overlapping poly_ids\n",
    "        non_overlapping_poly_ids = unique_poly_ids.difference(covered_poly_ids)\n",
    "\n",
    "        # Calculate the increase in coverage\n",
    "        increase = len(non_overlapping_poly_ids)\n",
    "\n",
    "        # Update next_group if this group has a larger increase in coverage\n",
    "        if increase > max_increase:\n",
    "            max_increase = increase\n",
    "            next_group = uni_id\n",
    "\n",
    "    return next_group, max_increase"
   ]
  },
  {
   "cell_type": "markdown",
   "metadata": {},
   "source": [
    "#### Import points"
   ]
  },
  {
   "cell_type": "markdown",
   "metadata": {},
   "source": [
    "#### Add crs289922 orginal to points_xxxx"
   ]
  },
  {
   "cell_type": "code",
   "execution_count": 3,
   "metadata": {},
   "outputs": [],
   "source": [
    "def prepare_vehicle_unique_ids(points_gdf, cbs_gdf):\n",
    "    \"\"\"\n",
    "    Joins CBS cells to points and calculates the number of unique CBS cell IDs ('crs28992')\n",
    "    for each vehicle ('uni_id').\n",
    "\n",
    "    Parameters:\n",
    "    - points_gdf : GeoDataFrame of points with 'id' and 'uni_id'.\n",
    "    - cbs_gdf    : GeoDataFrame of CBS cells with 'crs28992' and 'geometry'.\n",
    "\n",
    "    Returns:\n",
    "    - vehicle_unique_ids : DataFrame with 'unique_id_count' per vehicle, sorted descending.\n",
    "    - points_gdf         : Updated GeoDataFrame with CBS IDs added.\n",
    "    \"\"\"\n",
    "\n",
    "    # Spatial join: points to CBS cells\n",
    "    points_gdf = gpd.sjoin(\n",
    "        points_gdf,\n",
    "        cbs_gdf[['crs28992', 'geometry']],\n",
    "        how='left',\n",
    "        predicate='intersects'\n",
    "    ).drop(columns='index_right') \\\n",
    "     .rename(columns={'crs28992': 'crs28992_orig'})\n",
    "\n",
    "    # Rename for clarity\n",
    "    points_gdf.rename(columns={'id': 'id_point', 'crs28992_orig': 'id'}, inplace=True)\n",
    "\n",
    "    # Count unique CBS cells per vehicle\n",
    "    vehicle_unique_ids = points_gdf.groupby('uni_id')['id'].nunique().reset_index()\n",
    "    vehicle_unique_ids.rename(columns={'id': 'unique_id_count'}, inplace=True)\n",
    "    vehicle_unique_ids.set_index('uni_id', inplace=True)\n",
    "    vehicle_unique_ids.sort_values(by='unique_id_count', ascending=False, inplace=True)\n",
    "\n",
    "    return vehicle_unique_ids, points_gdf\n"
   ]
  },
  {
   "cell_type": "code",
   "execution_count": 4,
   "metadata": {},
   "outputs": [],
   "source": [
    "def select_vehicles_for_max_coverage(points_gdf, vehicle_unique_ids, coverage_threshold=3):\n",
    "    \"\"\"\n",
    "    Selects vehicles (uni_ids) iteratively to maximize CBS cell coverage.\n",
    "\n",
    "    Parameters:\n",
    "    - points_gdf          : GeoDataFrame with 'uni_id' and 'id' (CBS cell ID).\n",
    "    - vehicle_unique_ids  : DataFrame with 'uni_id' and 'unique_id_count' (number of unique cells per vehicle).\n",
    "    - coverage_threshold  : Minimum increase in coverage to continue selection (default = 3).\n",
    "\n",
    "    Returns:\n",
    "    - selected_uni_ids_df : DataFrame of selected vehicles with their 'unique_id_count'.\n",
    "    \"\"\"\n",
    "\n",
    "    covered_poly_ids = []\n",
    "    selected_uni_ids_df = pd.DataFrame(columns=['uni_id'])\n",
    "\n",
    "    while True:\n",
    "        # Use helper function to find the next best vehicle\n",
    "        next_group, increase = find_next_group(points_gdf, covered_poly_ids)\n",
    "\n",
    "        if increase <= coverage_threshold:\n",
    "            break\n",
    "\n",
    "        # Update covered CBS cells\n",
    "        covered_poly_ids.extend(points_gdf.loc[points_gdf['uni_id'] == next_group, 'id'].unique())\n",
    "\n",
    "        # Add selected vehicle\n",
    "        selected_uni_ids_df = pd.concat(\n",
    "            [selected_uni_ids_df, pd.DataFrame({'uni_id': [next_group]})],\n",
    "            ignore_index=True\n",
    "        )\n",
    "\n",
    "        # Merge unique counts into the selection list\n",
    "        selected_uni_ids_df = selected_uni_ids_df.merge(\n",
    "            vehicle_unique_ids, on='uni_id', how='left'\n",
    "        )\n",
    "\n",
    "    return selected_uni_ids_df\n"
   ]
  },
  {
   "cell_type": "code",
   "execution_count": 5,
   "metadata": {},
   "outputs": [],
   "source": [
    "def select_vehicles_for_max_coverage(points_gdf, vehicle_unique_ids, coverage_threshold=3):\n",
    "    \"\"\"\n",
    "    Selects vehicles (uni_ids) iteratively to maximize CBS cell coverage.\n",
    "\n",
    "    Returns:\n",
    "    - selected_uni_ids_df : DataFrame of selected vehicles with their 'unique_id_count'.\n",
    "    \"\"\"\n",
    "\n",
    "    covered_poly_ids = []\n",
    "    selected_uni_ids = []  # just collect uni_ids here\n",
    "\n",
    "    while True:\n",
    "        next_group, increase = find_next_group(points_gdf, covered_poly_ids)\n",
    "\n",
    "        if increase <= coverage_threshold:\n",
    "            break\n",
    "\n",
    "        covered_poly_ids.extend(points_gdf.loc[points_gdf['uni_id'] == next_group, 'id'].unique())\n",
    "        selected_uni_ids.append(next_group)\n",
    "\n",
    "    # Convert list to DataFrame once, THEN merge\n",
    "    selected_uni_ids_df = pd.DataFrame({'uni_id': selected_uni_ids}).merge(\n",
    "        vehicle_unique_ids, on='uni_id', how='left'\n",
    "    )\n",
    "\n",
    "    return selected_uni_ids_df\n"
   ]
  },
  {
   "cell_type": "markdown",
   "metadata": {},
   "source": [
    "### Select TOP 10"
   ]
  },
  {
   "cell_type": "code",
   "execution_count": 6,
   "metadata": {},
   "outputs": [],
   "source": [
    "def extract_top_spatial_selection(selected_uni_ids_df, vehicles_df, top_n=10):\n",
    "    \"\"\"\n",
    "    Extracts top-N spatially optimized vehicles.\n",
    "\n",
    "    Parameters:\n",
    "    - selected_uni_ids_df : DataFrame with 'uni_id' column\n",
    "    - vehicles_df         : GeoDataFrame with 'uni_id'\n",
    "    - top_n               : number of top vehicles to select\n",
    "\n",
    "    Returns:\n",
    "    - optimized_ids       : list of selected uni_ids (as 'max_spatial')\n",
    "    - filtered_vehicles   : GeoDataFrame filtered to those IDs\n",
    "    \"\"\"\n",
    "\n",
    "    top_selected = selected_uni_ids_df.head(top_n).copy()\n",
    "    top_selected.rename(columns={'uni_id': 'max_spatial'}, inplace=True)\n",
    "\n",
    "    optimized_ids = top_selected['max_spatial'].to_list()\n",
    "    filtered_vehicles = vehicles_df[vehicles_df['uni_id'].isin(optimized_ids)].copy()\n",
    "\n",
    "    return optimized_ids, filtered_vehicles\n"
   ]
  },
  {
   "cell_type": "code",
   "execution_count": null,
   "metadata": {},
   "outputs": [],
   "source": [
    "# def spatial_optimization_pipeline(points_gdf, cbs_gdf, vehicles_df, coverage_threshold=3, top_n=10):\n",
    "#     \"\"\"\n",
    "#     Full pipeline for spatial optimization:\n",
    "#     1. Prepares unique vehicle coverage.\n",
    "#     2. Selects vehicles to maximize CBS cell coverage.\n",
    "#     3. Extracts top-N optimized vehicles.\n",
    "\n",
    "#     Parameters:\n",
    "#     - points_gdf          : GeoDataFrame of measurement points.\n",
    "#     - cbs_gdf             : CBS GeoDataFrame with 'crs28992' and geometry.\n",
    "#     - vehicles_df         : GeoDataFrame of vehicles with 'uni_id'.\n",
    "#     - coverage_threshold  : Minimum coverage increase to continue selection.\n",
    "#     - top_n               : Number of top optimized vehicles to select.\n",
    "\n",
    "#     Returns:\n",
    "#     - optimized_ids       : List of selected vehicle IDs.\n",
    "#     - filtered_vehicles   : GeoDataFrame of the selected vehicles.\n",
    "#     \"\"\"\n",
    "\n",
    "#     # Step 1: Prepare vehicle coverage\n",
    "#     vehicle_unique_ids, points_gdf_prepared = prepare_vehicle_unique_ids(points_gdf, cbs_gdf)\n",
    "\n",
    "#     # Step 2: Select vehicles to maximize coverage\n",
    "#     selected = select_vehicles_for_max_coverage(points_gdf_prepared, vehicle_unique_ids, coverage_threshold)\n",
    "\n",
    "#     # Step 3: Extract top-N optimized vehicles\n",
    "#     optimized_ids, filtered_vehicles = extract_top_spatial_selection(selected, vehicles_df, top_n=top_n)\n",
    "\n",
    "#     return optimized_ids, filtered_vehicles\n"
   ]
  },
  {
   "cell_type": "code",
   "execution_count": 21,
   "metadata": {},
   "outputs": [],
   "source": [
    "def spatial_optimization_pipeline(points_gdf, cbs_gdf, vehicles_df, coverage_threshold=3, top_n=10):\n",
    "    \"\"\"\n",
    "    Full pipeline for spatial optimization:\n",
    "    1. Prepares unique vehicle coverage.\n",
    "    2. Selects vehicles to maximize CBS cell coverage.\n",
    "    3. Extracts top-N optimized vehicles.\n",
    "    4. Returns a one-column DataFrame ('max_spatial') listing the selected vehicle IDs.\n",
    "\n",
    "    Parameters:\n",
    "    - points_gdf          : GeoDataFrame of measurement points.\n",
    "    - cbs_gdf             : CBS GeoDataFrame with 'crs28992' and geometry.\n",
    "    - vehicles_df         : GeoDataFrame of vehicles with 'uni_id'.\n",
    "    - coverage_threshold  : Minimum coverage increase to continue selection.\n",
    "    - top_n               : Number of top optimized vehicles to select.\n",
    "\n",
    "    Returns:\n",
    "    - optimized_ids       : List of selected vehicle IDs.\n",
    "    - filtered_vehicles   : GeoDataFrame of the selected vehicles.\n",
    "    - df_max_spatial      : DataFrame with one column ('max_spatial') listing selected vehicle IDs.\n",
    "    \"\"\"\n",
    "\n",
    "    # Step 1: Prepare vehicle coverage\n",
    "    vehicle_unique_ids, points_gdf_prepared = prepare_vehicle_unique_ids(points_gdf, cbs_gdf)\n",
    "\n",
    "    # Step 2: Select vehicles to maximize coverage\n",
    "    selected = select_vehicles_for_max_coverage(points_gdf_prepared, vehicle_unique_ids, coverage_threshold)\n",
    "\n",
    "    # Step 3: Extract top-N optimized vehicles\n",
    "    optimized_ids, filtered_vehicles = extract_top_spatial_selection(selected, vehicles_df, top_n=top_n)\n",
    "\n",
    "    # Step 4: Format selected IDs into a one-column DataFrame\n",
    "    df_max_spatial = pd.DataFrame({'max_spatial': optimized_ids})\n",
    "\n",
    "    return optimized_ids, filtered_vehicles, df_max_spatial\n"
   ]
  },
  {
   "cell_type": "markdown",
   "metadata": {},
   "source": [
    "## FUNCTION "
   ]
  },
  {
   "cell_type": "markdown",
   "metadata": {},
   "source": [
    "### INPUT DATA: Grouped by points CBS\n",
    "### INPUT DATA:CBS Full \n",
    "### INPUT DATA:  Vehicles Stats \n",
    "### OUTPUT: Optimized Spatial List \n",
    "### OUTPUT: Optimized Spatial Vehicles "
   ]
  },
  {
   "cell_type": "code",
   "execution_count": 17,
   "metadata": {},
   "outputs": [],
   "source": [
    "# Data\n",
    "\n",
    "points_gdf = gpd.read_file('data/grouped_by_points_CBS_1503.shp')\n",
    "cbs_gdf = gpd.read_file('data/cbs_full.shp')\n",
    "\n",
    "# load vehicles stats \n",
    "vehicles_1503 = gpd.read_file(\"data/vehicles_1503.shp\")\n"
   ]
  },
  {
   "cell_type": "code",
   "execution_count": 22,
   "metadata": {},
   "outputs": [],
   "source": [
    "optimized_spatial, filtered_vehicles, df_selection_row = spatial_optimization_pipeline(\n",
    "    points_gdf, cbs_gdf, vehicles_1503, coverage_threshold=3, top_n=10\n",
    ")\n"
   ]
  },
  {
   "cell_type": "code",
   "execution_count": 23,
   "metadata": {},
   "outputs": [
    {
     "data": {
      "text/html": [
       "<div>\n",
       "<style scoped>\n",
       "    .dataframe tbody tr th:only-of-type {\n",
       "        vertical-align: middle;\n",
       "    }\n",
       "\n",
       "    .dataframe tbody tr th {\n",
       "        vertical-align: top;\n",
       "    }\n",
       "\n",
       "    .dataframe thead th {\n",
       "        text-align: right;\n",
       "    }\n",
       "</style>\n",
       "<table border=\"1\" class=\"dataframe\">\n",
       "  <thead>\n",
       "    <tr style=\"text-align: right;\">\n",
       "      <th></th>\n",
       "      <th>max_spatial</th>\n",
       "    </tr>\n",
       "  </thead>\n",
       "  <tbody>\n",
       "    <tr>\n",
       "      <th>0</th>\n",
       "      <td>1921.0_GVB</td>\n",
       "    </tr>\n",
       "    <tr>\n",
       "      <th>1</th>\n",
       "      <td>309.0_GVB</td>\n",
       "    </tr>\n",
       "    <tr>\n",
       "      <th>2</th>\n",
       "      <td>2268.0_GVB</td>\n",
       "    </tr>\n",
       "    <tr>\n",
       "      <th>3</th>\n",
       "      <td>2021.0_GVB</td>\n",
       "    </tr>\n",
       "    <tr>\n",
       "      <th>4</th>\n",
       "      <td>1467.0_GVB</td>\n",
       "    </tr>\n",
       "    <tr>\n",
       "      <th>5</th>\n",
       "      <td>1105.0_GVB</td>\n",
       "    </tr>\n",
       "    <tr>\n",
       "      <th>6</th>\n",
       "      <td>2125.0_GVB</td>\n",
       "    </tr>\n",
       "    <tr>\n",
       "      <th>7</th>\n",
       "      <td>310.0_GVB</td>\n",
       "    </tr>\n",
       "    <tr>\n",
       "      <th>8</th>\n",
       "      <td>1408.0_GVB</td>\n",
       "    </tr>\n",
       "    <tr>\n",
       "      <th>9</th>\n",
       "      <td>2096.0_GVB</td>\n",
       "    </tr>\n",
       "  </tbody>\n",
       "</table>\n",
       "</div>"
      ],
      "text/plain": [
       "  max_spatial\n",
       "0  1921.0_GVB\n",
       "1   309.0_GVB\n",
       "2  2268.0_GVB\n",
       "3  2021.0_GVB\n",
       "4  1467.0_GVB\n",
       "5  1105.0_GVB\n",
       "6  2125.0_GVB\n",
       "7   310.0_GVB\n",
       "8  1408.0_GVB\n",
       "9  2096.0_GVB"
      ]
     },
     "execution_count": 23,
     "metadata": {},
     "output_type": "execute_result"
    }
   ],
   "source": [
    "df_selection_row"
   ]
  },
  {
   "cell_type": "code",
   "execution_count": null,
   "metadata": {},
   "outputs": [],
   "source": [
    "#top_10_selected[['max_spatial']].to_csv('data/optimized_spatial_1503.csv', index=False)\n"
   ]
  },
  {
   "cell_type": "code",
   "execution_count": 15,
   "metadata": {},
   "outputs": [
    {
     "data": {
      "text/plain": [
       "['1921.0_GVB',\n",
       " '309.0_GVB',\n",
       " '2268.0_GVB',\n",
       " '2021.0_GVB',\n",
       " '1467.0_GVB',\n",
       " '1105.0_GVB',\n",
       " '2125.0_GVB',\n",
       " '310.0_GVB',\n",
       " '1408.0_GVB',\n",
       " '2096.0_GVB']"
      ]
     },
     "execution_count": 15,
     "metadata": {},
     "output_type": "execute_result"
    }
   ],
   "source": [
    "optimized_spatial"
   ]
  }
 ],
 "metadata": {
  "kernelspec": {
   "display_name": "sensing_env",
   "language": "python",
   "name": "python3"
  },
  "language_info": {
   "codemirror_mode": {
    "name": "ipython",
    "version": 3
   },
   "file_extension": ".py",
   "mimetype": "text/x-python",
   "name": "python",
   "nbconvert_exporter": "python",
   "pygments_lexer": "ipython3",
   "version": "3.12.3"
  }
 },
 "nbformat": 4,
 "nbformat_minor": 2
}
