{
 "cells": [
  {
   "cell_type": "markdown",
   "id": "45a3ffbf",
   "metadata": {},
   "source": [
    "## Import Libraries for Vehicles"
   ]
  },
  {
   "cell_type": "code",
   "execution_count": 1,
   "id": "6f287062",
   "metadata": {},
   "outputs": [],
   "source": [
    "import geopandas as gpd\n",
    "import pandas as pd\n",
    "import matplotlib.pyplot as plt\n",
    "from matplotlib.colors import LinearSegmentedColormap\n",
    "import mapclassify\n",
    "import plotly.express as px\n",
    "from shapely.geometry import MultiPoint\n",
    "import ast"
   ]
  },
  {
   "cell_type": "markdown",
   "id": "69c98e2f",
   "metadata": {},
   "source": [
    "### Function Vehicle Wrangler from Points\n",
    "\n",
    "- ### Insert Vehicles for day / several days / week\n",
    "- ### From 5.30 to 5.29 is the time 15.03 - 16.03 for PAPER***"
   ]
  },
  {
   "cell_type": "code",
   "execution_count": 2,
   "id": "b7c312e8",
   "metadata": {},
   "outputs": [],
   "source": [
    "def create_vehicles_gdf(points_df):\n",
    "    \"\"\"\n",
    "    Aggregate points_df by uni_id into vehicles_1503 GeoDataFrame.\n",
    "    \"\"\"\n",
    "    # 1. stats aggregation\n",
    "    stats = points_df.groupby(\"uni_id\").agg(\n",
    "        route_id=(\"route_id_l\", lambda x: list(set(x))),\n",
    "        crs28992_list=(\"crs28992_l\", lambda x: list(set(x))),\n",
    "        min_new_timest=(\"new_timest\", \"min\"),\n",
    "        max_new_timest=(\"new_timest\", \"max\"),\n",
    "        count=(\"id\", \"count\")\n",
    "    ).reset_index()\n",
    "\n",
    "    # 2. build MultiPoint geometry\n",
    "    geom = points_df.groupby(\"uni_id\")[\"geometry\"] \\\n",
    "        .apply(lambda geoms: MultiPoint(geoms.tolist())) \\\n",
    "        .reset_index()\n",
    "\n",
    "    # 3. merge stats + geometry\n",
    "    df = stats.merge(geom, on=\"uni_id\")\n",
    "\n",
    "    # 4. flatten crs28922_list per row\n",
    "    df[\"crs28922_list\"] = df[\"crs28992_list\"].apply(\n",
    "        lambda rows: list(dict.fromkeys(\n",
    "            item\n",
    "            for row in rows\n",
    "            for item in ast.literal_eval(row)\n",
    "        ))\n",
    "    )\n",
    "    # 5. Delte crs28992_list column (firstly created) and add instead crs28992_list (second)\n",
    "    df.drop(columns=[\"crs28992_list\"], inplace=True)\n",
    "    df.rename(columns={\"crs28992_list\": \"crs28922_list\"}, inplace=True)\n",
    "    # 6. add crs28992_list after royute_id\n",
    "    df = df[[\"uni_id\", \"route_id\", \"crs28922_list\", \"min_new_timest\", \"max_new_timest\", \"count\", \"geometry\"]]\n",
    "\n",
    "    gdf_vehicles = gpd.GeoDataFrame(df, geometry=\"geometry\", crs=\"EPSG:28992\")\n",
    "    \n",
    "    # 7. return GeoDataFrame\n",
    "    return gdf_vehicles "
   ]
  },
  {
   "cell_type": "markdown",
   "id": "2aa86700",
   "metadata": {},
   "source": [
    "### Add values to vechicles from CBS \n",
    "#### ***Paper say the POINTS count are only when vehicle is in the operation officialy when the signal is sent"
   ]
  },
  {
   "cell_type": "markdown",
   "id": "4dc6880b",
   "metadata": {},
   "source": [
    "#### Perform very complex merge based on CBS \n"
   ]
  },
  {
   "cell_type": "code",
   "execution_count": 3,
   "id": "0b9f0826",
   "metadata": {},
   "outputs": [],
   "source": [
    "def enrich_vehicles_with_cbs_and_routes(vehicles_gdf, points_gdf, cbs_gdf):\n",
    "    \"\"\"\n",
    "    Enriches vehicle-level data with aggregated CBS stats and route_type from points.\n",
    "\n",
    "    Parameters:\n",
    "    - vehicles_gdf : GeoDataFrame with 'uni_id', 'crs28922_list', and other metadata\n",
    "    - points_gdf   : GeoDataFrame with 'uni_id' and 'route_type'\n",
    "    - cbs_gdf      : GeoDataFrame with 'crs28992' and CBS demographic columns\n",
    "\n",
    "    Returns:\n",
    "    - vehicles_gdf enriched with CBS sums, mean WOZ, route_type, sorted by 'A_inhab'\n",
    "    \"\"\"\n",
    "\n",
    "    sum_cols = ['A_inhab', 'A_0_15', 'A_15_25', 'A_25_45', 'A_45_65', 'A_65+', 'A_nederlan', 'A_west_mig', 'A_n_west_m']\n",
    "    mean_col = 'G_woz_woni'\n",
    "\n",
    "    # Explode CRS list to individual rows\n",
    "    exploded = vehicles_gdf[['uni_id', 'crs28922_list']].explode('crs28922_list').rename(columns={'crs28922_list': 'crs28992'})\n",
    "\n",
    "    # Merge CBS data\n",
    "    merged = exploded.merge(\n",
    "        cbs_gdf[['crs28992'] + sum_cols + [mean_col]],\n",
    "        on='crs28992',\n",
    "        how='left'\n",
    "    )\n",
    "\n",
    "    # Aggregate CBS stats per vehicle\n",
    "    agg_map = {col: 'sum' for col in sum_cols}\n",
    "    agg_map[mean_col] = 'mean'\n",
    "    agg = merged.groupby('uni_id').agg(agg_map).reset_index()\n",
    "\n",
    "    # Merge aggregated CBS stats\n",
    "    vehicles_gdf = vehicles_gdf.merge(agg, on='uni_id', how='left')\n",
    "\n",
    "    # Merge route_type from points\n",
    "    vehicles_gdf = vehicles_gdf.merge(\n",
    "        points_gdf[['uni_id', 'route_type']].drop_duplicates('uni_id'),\n",
    "        on='uni_id',\n",
    "        how='left'\n",
    "    )\n",
    "\n",
    "    # Round G_woz_woni to 1 decimal\n",
    "    vehicles_gdf[mean_col] = vehicles_gdf[mean_col].round(1)\n",
    "\n",
    "    # Sort and reorder columns\n",
    "    ordered_cols = ['uni_id', 'route_id', 'route_type', 'crs28922_list', 'min_new_timest', 'max_new_timest', 'count'] + sum_cols + [mean_col, 'geometry']\n",
    "    vehicles_gdf = vehicles_gdf[ordered_cols]\n",
    "\n",
    "    vehicles_gdf.sort_values(by='A_inhab', ascending=False, inplace=True)\n",
    "\n",
    "    return vehicles_gdf\n"
   ]
  },
  {
   "cell_type": "markdown",
   "id": "965ff6f9",
   "metadata": {},
   "source": [
    "## FUNCTION "
   ]
  },
  {
   "cell_type": "markdown",
   "id": "9b173f8b",
   "metadata": {},
   "source": [
    "### INPUT DATA: GROUPED BY POINTS DATAFRAME \n",
    "### INPUT DATA: CBS FULL\n",
    "### OUTPUT: VEHICLES STATS GDF"
   ]
  },
  {
   "cell_type": "code",
   "execution_count": 4,
   "id": "916b485d",
   "metadata": {},
   "outputs": [],
   "source": [
    "def prepare_vehicles_with_stats(points_grouped, cbs_full):\n",
    "    \"\"\"\n",
    "    Full pipeline:\n",
    "    1. Creates vehicle-level GeoDataFrame from grouped points.\n",
    "    2. Enriches with CBS statistics and route types.\n",
    "\n",
    "    Parameters:\n",
    "    - points_grouped : GeoDataFrame grouped by 'uni_id' with 'route_type' and other data.\n",
    "    - cbs_full       : CBS GeoDataFrame with 'crs28992' and demographic data.\n",
    "\n",
    "    Returns:\n",
    "    - vehicles_stats : GeoDataFrame enriched with CBS data and route_type.\n",
    "    \"\"\"\n",
    "    vehicles_gdf = create_vehicles_gdf(points_grouped)\n",
    "    vehicles_stats = enrich_vehicles_with_cbs_and_routes(vehicles_gdf, points_grouped, cbs_full)\n",
    "    return vehicles_stats\n"
   ]
  },
  {
   "cell_type": "code",
   "execution_count": 5,
   "id": "b47cbcb5",
   "metadata": {},
   "outputs": [],
   "source": [
    "# Data\n",
    "points_grouped= gpd.read_file(\"data/grouped_by_points_CBS_1503.shp\")\n",
    "\n",
    "cbs_full = gpd.read_file(\"data/cbs_full.shp\")"
   ]
  },
  {
   "cell_type": "code",
   "execution_count": 6,
   "id": "2ce3520f",
   "metadata": {},
   "outputs": [],
   "source": [
    "# Usage \n",
    "vehicles_stats = prepare_vehicles_with_stats(points_grouped, cbs_full)\n"
   ]
  },
  {
   "cell_type": "code",
   "execution_count": null,
   "id": "dabadc02",
   "metadata": {},
   "outputs": [],
   "source": [
    "# export vehicles_1503 to gpkg\n",
    "\n",
    "#vehicles_1503.to_file(\"data/vehicles_1503.gpkg\")\n"
   ]
  }
 ],
 "metadata": {
  "kernelspec": {
   "display_name": "sensing_env",
   "language": "python",
   "name": "python3"
  },
  "language_info": {
   "codemirror_mode": {
    "name": "ipython",
    "version": 3
   },
   "file_extension": ".py",
   "mimetype": "text/x-python",
   "name": "python",
   "nbconvert_exporter": "python",
   "pygments_lexer": "ipython3",
   "version": "3.12.3"
  }
 },
 "nbformat": 4,
 "nbformat_minor": 5
}
