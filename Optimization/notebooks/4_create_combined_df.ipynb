{
 "cells": [
  {
   "cell_type": "markdown",
   "metadata": {},
   "source": [
    "### Libraries"
   ]
  },
  {
   "cell_type": "code",
   "execution_count": 7,
   "metadata": {},
   "outputs": [],
   "source": [
    "import pandas as pd"
   ]
  },
  {
   "cell_type": "markdown",
   "metadata": {},
   "source": [
    "# FUNCTION: Combined DataFrame"
   ]
  },
  {
   "cell_type": "markdown",
   "metadata": {},
   "source": [
    "### INPUT DATA: OPTIMIZED VEHICLES DFs \n",
    "### OUTPUT DATA: COMBINED VEHICLES DF"
   ]
  },
  {
   "cell_type": "code",
   "execution_count": 2,
   "metadata": {},
   "outputs": [],
   "source": [
    "def combine_optimized_dfs(*dfs):\n",
    "    return pd.concat(dfs, axis=1)"
   ]
  },
  {
   "cell_type": "code",
   "execution_count": 3,
   "metadata": {},
   "outputs": [
    {
     "ename": "NameError",
     "evalue": "name 'pd' is not defined",
     "output_type": "error",
     "traceback": [
      "\u001b[31m---------------------------------------------------------------------------\u001b[39m",
      "\u001b[31mNameError\u001b[39m                                 Traceback (most recent call last)",
      "\u001b[36mCell\u001b[39m\u001b[36m \u001b[39m\u001b[32mIn[3]\u001b[39m\u001b[32m, line 3\u001b[39m\n\u001b[32m      1\u001b[39m \u001b[38;5;66;03m# Add DATA\u001b[39;00m\n\u001b[32m----> \u001b[39m\u001b[32m3\u001b[39m max_space_vehicles = \u001b[43mpd\u001b[49m.read_csv(\u001b[33m'\u001b[39m\u001b[33mdata/optimized_spatial_25_1503.csv\u001b[39m\u001b[33m'\u001b[39m) \n\u001b[32m      4\u001b[39m max_pop_vehicles = pd.read_csv(\u001b[33m'\u001b[39m\u001b[33mdata/optimized_pop_count_25_1503.csv\u001b[39m\u001b[33m'\u001b[39m)\n\u001b[32m      5\u001b[39m fair_vehicles = pd.read_csv(\u001b[33m'\u001b[39m\u001b[33mdata/optimized_fairness_25_1503.csv\u001b[39m\u001b[33m'\u001b[39m) \n",
      "\u001b[31mNameError\u001b[39m: name 'pd' is not defined"
     ]
    }
   ],
   "source": [
    "# Add DATA\n",
    "\n",
    "max_space_vehicles = pd.read_csv('data/optimized_spatial_25_1503.csv') \n",
    "max_pop_vehicles = pd.read_csv('data/optimized_pop_count_25_1503.csv')\n",
    "fair_vehicles = pd.read_csv('data/optimized_fairness_25_1503.csv') "
   ]
  },
  {
   "cell_type": "code",
   "execution_count": 10,
   "metadata": {},
   "outputs": [],
   "source": [
    "# Usage Function\n",
    "combined_df = combine_optimized_dfs(max_space_vehicles, max_pop_vehicles, fair_vehicles)"
   ]
  },
  {
   "cell_type": "code",
   "execution_count": null,
   "metadata": {},
   "outputs": [],
   "source": [
    "#combined_df.to_csv('data/combined_vehicles_1503.csv', index=False)"
   ]
  }
 ],
 "metadata": {
  "kernelspec": {
   "display_name": "sensing_env",
   "language": "python",
   "name": "python3"
  },
  "language_info": {
   "codemirror_mode": {
    "name": "ipython",
    "version": 3
   },
   "file_extension": ".py",
   "mimetype": "text/x-python",
   "name": "python",
   "nbconvert_exporter": "python",
   "pygments_lexer": "ipython3",
   "version": "3.12.3"
  }
 },
 "nbformat": 4,
 "nbformat_minor": 2
}
