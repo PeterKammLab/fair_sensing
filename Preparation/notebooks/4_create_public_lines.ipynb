{
 "cells": [
  {
   "cell_type": "markdown",
   "id": "a4f1044d",
   "metadata": {},
   "source": [
    "### Libraries"
   ]
  },
  {
   "cell_type": "code",
   "execution_count": 61,
   "id": "71eb152a-0978-4c53-a367-de91fedf54ec",
   "metadata": {},
   "outputs": [],
   "source": [
    "import pandas as pd\n",
    "import geopandas as gpd\n",
    "from zipfile import ZipFile\n",
    "from shapely.geometry import LineString"
   ]
  },
  {
   "cell_type": "markdown",
   "id": "3d8ea84d",
   "metadata": {},
   "source": [
    "### Function | Create Public Transport Lines for City \n"
   ]
  },
  {
   "cell_type": "markdown",
   "id": "0e5fdfd6",
   "metadata": {},
   "source": [
    "### RAW DATA INPUT: GTFS NL STATIC \n",
    "### DATA OUTPUT: PUBLIC TRANSPORT LINES AGENCY / TYPE (e.g. GVB, bus, tram)"
   ]
  },
  {
   "cell_type": "code",
   "execution_count": null,
   "id": "fd553ad8",
   "metadata": {},
   "outputs": [],
   "source": [
    "\n",
    "# Description: Reads GTFS zip, builds shape LineStrings, merges with trips/routes, filters by agency,\n",
    "#              and returns GeoDataFrames for tram, bus, night-bus, and all public transport.\n",
    "\n",
    "def extract_public_lines(gtfs_zip_path: str, agency_id: str = 'GVB'):\n",
    "    # 1) Read GTFS static files from zip\n",
    "    with ZipFile(gtfs_zip_path) as z:\n",
    "        df_shapes = pd.read_csv(z.open(\"shapes.txt\"), dtype={\n",
    "            'shape_id': 'str',\n",
    "            'shape_pt_lat': 'float',\n",
    "            'shape_pt_lon': 'float',\n",
    "            'shape_pt_sequence': 'Int64',\n",
    "            'shape_dist_traveled': 'float',\n",
    "        })\n",
    "        df_routes = pd.read_csv(z.open(\"routes.txt\"), dtype={\n",
    "            'route_id': 'str',\n",
    "            'agency_id': 'str',\n",
    "            'route_short_name': 'str',\n",
    "            'route_long_name': 'str',\n",
    "            'route_desc': 'str',\n",
    "            'route_type': 'Int64',\n",
    "            'route_color': 'str',\n",
    "            'route_text_color': 'str',\n",
    "            'exact_times': 'bool'\n",
    "        })\n",
    "        df_trips = pd.read_csv(z.open(\"trips.txt\"), dtype={\n",
    "            'route_id': 'str',\n",
    "            'service_id': 'str',\n",
    "            'trip_id': 'str',\n",
    "            'shape_id': 'str',\n",
    "            'trip_headsign': 'str',\n",
    "            'direction_id': 'str',\n",
    "            'block_id': 'str',\n",
    "            'wheelchair_accessible': 'str',\n",
    "            'route_direction': 'str',\n",
    "            'trip_note': 'str',\n",
    "            'bikes_allowed': 'str'\n",
    "        })\n",
    "\n",
    "    # 2) Build GeoDataFrame of shapes\n",
    "    df_shapes['geometry'] = gpd.points_from_xy(df_shapes['shape_pt_lon'], df_shapes['shape_pt_lat'])\n",
    "    # group into LineStrings per shape_id\n",
    "    grouped = df_shapes.groupby('shape_id')['geometry'].agg(list)\n",
    "    grouped = grouped[grouped.map(len) > 1].to_frame()\n",
    "    grouped['geometry'] = grouped['geometry'].apply(LineString)\n",
    "    gdf_shapes = gpd.GeoDataFrame(grouped, geometry='geometry', crs=\"EPSG:4326\")\n",
    "    # reproject to RD New\n",
    "    gdf_shapes = gdf_shapes.to_crs(\"EPSG:28992\")\n",
    "\n",
    "    # 3) Prepare route info\n",
    "    df_route_meta = df_routes[['route_id','route_type','route_short_name','agency_id']].drop_duplicates()\n",
    "    df_trip_meta = df_trips[['route_id','shape_id']].drop_duplicates()\n",
    "    df_trip_meta = df_trip_meta.merge(df_route_meta, on='route_id', how='left')\n",
    "\n",
    "    # 4) Merge shapes with trip metadata\n",
    "    gdf = gdf_shapes.merge(df_trip_meta, left_index=True, right_on='shape_id', how='left')\n",
    "\n",
    "    # 5) Filter for agency and modes\n",
    "    gdf_agency = gdf[gdf['agency_id'] == agency_id]\n",
    "\n",
    "    # tram: route_type == 0\n",
    "    tram_gdf = gdf_agency[gdf_agency['route_type'] == 0]\n",
    "    tram_unique = tram_gdf.drop_duplicates(subset='route_short_name').reset_index(drop=True)\n",
    "\n",
    "    # bus: route_type == 3\n",
    "    bus_gdf = gdf_agency[gdf_agency['route_type'] == 3]\n",
    "    bus_unique = bus_gdf.drop_duplicates(subset='route_short_name').reset_index(drop=True)\n",
    "\n",
    "    # night bus: short_name startswith 'N'\n",
    "    bus_night_unique = bus_unique[bus_unique['route_short_name'].str.startswith('N')].reset_index(drop=True)\n",
    "\n",
    "    # day bus: the rest\n",
    "    bus_day_unique = bus_unique[~bus_unique['route_short_name'].str.startswith('N')].reset_index(drop=True)\n",
    "\n",
    "    # public transport = trams + all buses\n",
    "    public_transport = pd.concat([tram_unique, bus_unique], ignore_index=True)\n",
    "\n",
    "    return public_transport, tram_unique, bus_unique, bus_day_unique, bus_night_unique\n"
   ]
  },
  {
   "cell_type": "code",
   "execution_count": 64,
   "id": "e5c926ad",
   "metadata": {},
   "outputs": [],
   "source": [
    "# Example usage:\n",
    "public_transport, _, _, _, _ = extract_public_lines(\"gtfs-nl.zip\", agency_id=\"GVB\")\n"
   ]
  },
  {
   "cell_type": "code",
   "execution_count": null,
   "id": "fb67f924",
   "metadata": {},
   "outputs": [],
   "source": [
    "# # Export as gpkg\n",
    "# public_transport.to_file(\"data/public_transport.gpkg\", driver=\"GPKG\")"
   ]
  }
 ],
 "metadata": {
  "kernelspec": {
   "display_name": "sensing_env",
   "language": "python",
   "name": "python3"
  },
  "language_info": {
   "codemirror_mode": {
    "name": "ipython",
    "version": 3
   },
   "file_extension": ".py",
   "mimetype": "text/x-python",
   "name": "python",
   "nbconvert_exporter": "python",
   "pygments_lexer": "ipython3",
   "version": "3.12.3"
  }
 },
 "nbformat": 4,
 "nbformat_minor": 5
}
