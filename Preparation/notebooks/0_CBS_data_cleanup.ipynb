{
 "cells": [
  {
   "cell_type": "markdown",
   "id": "07e05ce6",
   "metadata": {},
   "source": [
    "## CBS data cleanup for each CITY in the NL"
   ]
  },
  {
   "cell_type": "markdown",
   "id": "9601107d",
   "metadata": {},
   "source": [
    "### Import libraries"
   ]
  },
  {
   "cell_type": "code",
   "execution_count": 3,
   "id": "25627f39-53b0-4638-a2d6-228e5f49faf0",
   "metadata": {},
   "outputs": [],
   "source": [
    "import geopandas as gpd\n",
    "import numpy as np\n",
    "import pandas as pd"
   ]
  },
  {
   "cell_type": "markdown",
   "id": "f9fea767-4e23-42a7-98ba-99006b1ed4db",
   "metadata": {},
   "source": [
    "### CBS 2021 *** For PAPER \n",
    "- this was used because we have migration category 3 categories\n",
    "\n",
    "Source: https://www.cbs.nl/nl-nl/dossier/nederland-regionaal/geografische-data/kaart-van-100-meter-bij-100-meter-met-statistieken"
   ]
  },
  {
   "cell_type": "markdown",
   "id": "a521b816-0a99-49f5-87f1-5fa46730bf2f",
   "metadata": {},
   "source": [
    "### Dataoverlay Amsterdam and Setting the full squares  (set  border of a city)\n",
    "\n",
    "No Weesp\n",
    "\n"
   ]
  },
  {
   "cell_type": "markdown",
   "id": "1a903e41",
   "metadata": {},
   "source": [
    "#### This is used to gt the full squares ***Paper"
   ]
  },
  {
   "cell_type": "markdown",
   "id": "c640074c",
   "metadata": {},
   "source": [
    "### Chose the relevant columns CBS - Filter only what we need"
   ]
  },
  {
   "cell_type": "markdown",
   "id": "d9ad3549",
   "metadata": {},
   "source": [
    "### Checking the None values and preparing the dataset CBS \n",
    "- replace -99997 with None\n",
    "### For PAPER* Check percentages of missing values"
   ]
  },
  {
   "cell_type": "markdown",
   "id": "d918d4c7",
   "metadata": {},
   "source": [
    "### SINGLE FUNCTIONS"
   ]
  },
  {
   "cell_type": "code",
   "execution_count": 10,
   "id": "c38c568a",
   "metadata": {},
   "outputs": [],
   "source": [
    "def clip_and_filter_cbs_by_city(cbs: gpd.GeoDataFrame, city: gpd.GeoDataFrame) -> gpd.GeoDataFrame:\n",
    "    cbs = cbs.to_crs(epsg=28992)\n",
    "    city = city.to_crs(epsg=28992)\n",
    "    clipped = gpd.overlay(cbs, city, how='intersection')\n",
    "    unique_vals = clipped['crs28992res100m'].unique()\n",
    "    filtered = cbs[cbs['crs28992res100m'].isin(unique_vals)].copy()\n",
    "\n",
    "    return filtered[[\n",
    "        'crs28992res100m',\n",
    "        'aantal_inwoners',\n",
    "        'aantal_inwoners_0_tot_15_jaar',\n",
    "        'aantal_inwoners_15_tot_25_jaar',\n",
    "        'aantal_inwoners_25_tot_45_jaar',\n",
    "        'aantal_inwoners_45_tot_65_jaar',\n",
    "        'aantal_inwoners_65_jaar_en_ouder',\n",
    "        'percentage_nederlandse_achtergrond',\n",
    "        'percentage_westerse_migr_achtergr',\n",
    "        'percentage_niet_westerse_migr_achtergr',\n",
    "        'aantal_woningen',\n",
    "        'gemiddelde_woz_waarde_woning',\n",
    "        'geometry'\n",
    "    ]]\n"
   ]
  },
  {
   "cell_type": "code",
   "execution_count": 19,
   "id": "0e558c5a",
   "metadata": {},
   "outputs": [],
   "source": [
    "def clean_cbs_nan(gdf: gpd.GeoDataFrame) -> tuple[pd.DataFrame, gpd.GeoDataFrame]:\n",
    "    nan_counts = (gdf == -99997).sum()\n",
    "    nan_percentages = nan_counts / len(gdf) * 100\n",
    "    nan_summary = pd.DataFrame({\n",
    "        'NaN Count': nan_counts,\n",
    "        'NaN Percentage (%)': nan_percentages\n",
    "    })\n",
    "\n",
    "    gdf.replace(-99997, np.nan, inplace=True)\n",
    "    cleaned = gdf.dropna(subset=['aantal_inwoners']).copy()\n",
    "\n",
    "    return nan_summary, cleaned\n"
   ]
  },
  {
   "cell_type": "markdown",
   "id": "c7c1ac7c",
   "metadata": {},
   "source": [
    "### Rename colums, recalculate absolute values, geometry set and EXPORT"
   ]
  },
  {
   "cell_type": "code",
   "execution_count": 20,
   "id": "872133e9",
   "metadata": {},
   "outputs": [],
   "source": [
    "def rename_and_recalculate(gdf: gpd.GeoDataFrame) -> gpd.GeoDataFrame:\n",
    "    gdf.columns = [\n",
    "        'crs28992', 'A_inhab', 'A_0_15', 'A_15_25', 'A_25_45',\n",
    "        'A_45_65', 'A_65+', 'P_nederlan', 'P_west_mig', 'P_n_west_mig',\n",
    "        'A_woning', 'G_woz_woning', 'geometry'\n",
    "    ]\n",
    "\n",
    "    gdf['A_nederlan'] = gdf['P_nederlan'] / 100 * gdf['A_inhab']\n",
    "    gdf['A_west_mig'] = gdf['P_west_mig'] / 100 * gdf['A_inhab']\n",
    "    gdf['A_n_west_mig'] = gdf['P_n_west_mig'] / 100 * gdf['A_inhab']\n",
    "\n",
    "    gdf.drop(columns=[c for c in gdf.columns if c.startswith('P_')], inplace=True)\n",
    "    cols = [c for c in gdf.columns if c != 'geometry'] + ['geometry']\n",
    "    return gdf[cols].copy()\n"
   ]
  },
  {
   "cell_type": "markdown",
   "id": "5c38e20d",
   "metadata": {},
   "source": [
    "## Final Function | CBS\n",
    "\n",
    "### RAW DATA INPUT: CBS 100x100 NL / CITY BORDER\n",
    "### DATA OUTPUT: CBS READY GDF FOR CITY "
   ]
  },
  {
   "cell_type": "code",
   "execution_count": 36,
   "id": "4a84b9c8",
   "metadata": {},
   "outputs": [],
   "source": [
    "def process_cbs_data(cbs: gpd.GeoDataFrame, city: gpd.GeoDataFrame) -> tuple[gpd.GeoDataFrame, pd.DataFrame]:\n",
    "    \"\"\"\n",
    "    1. clip_and_filter_cbs_by_city: clip CBS data to city boundary and select relevant columns  \n",
    "    2. clean_cbs_nan: replace -99997 with NaN and drop rows with NaN in 'aantal_inwoners'  \n",
    "    3. rename_and_recalculate: rename columns and recalculate A_nederlan, A_west_mig, A_n_west_mig  \n",
    "\n",
    "    Returns:\n",
    "    - Cleaned CBS GeoDataFrame\n",
    "    - NaN summary DataFrame\n",
    "    \"\"\"\n",
    "    filtered = clip_and_filter_cbs_by_city(cbs, city)\n",
    "    nan_summary, cleaned = clean_cbs_nan(filtered)\n",
    "    semi_cbs = rename_and_recalculate(cleaned)\n",
    "    return semi_cbs, nan_summary\n"
   ]
  },
  {
   "cell_type": "code",
   "execution_count": 32,
   "id": "72503720",
   "metadata": {},
   "outputs": [],
   "source": [
    "# # USAGE\n",
    "# cbs = gpd.read_file(\"data/2024-cbs_vk100_2021_vol/cbs_vk100_2021_vol.gpkg\")\n",
    "# city = gpd.read_file('Gemeente2.geojson')\n",
    "\n",
    "semi_cbs, nan_summary = process_cbs_data_in_memory(cbs, city)\n"
   ]
  },
  {
   "cell_type": "code",
   "execution_count": 29,
   "id": "66b21cf6",
   "metadata": {},
   "outputs": [
    {
     "data": {
      "text/plain": [
       "<Axes: >"
      ]
     },
     "execution_count": 29,
     "metadata": {},
     "output_type": "execute_result"
    },
    {
     "data": {
      "image/png": "[encoded data removed]",
      "text/plain": [
       "<Figure size 640x480 with 1 Axes>"
      ]
     },
     "metadata": {},
     "output_type": "display_data"
    }
   ],
   "source": [
    "semi_cbs.plot()"
   ]
  },
  {
   "cell_type": "code",
   "execution_count": 37,
   "id": "5ef81370",
   "metadata": {},
   "outputs": [
    {
     "data": {
      "text/html": [
       "<div>\n",
       "<style scoped>\n",
       "    .dataframe tbody tr th:only-of-type {\n",
       "        vertical-align: middle;\n",
       "    }\n",
       "\n",
       "    .dataframe tbody tr th {\n",
       "        vertical-align: top;\n",
       "    }\n",
       "\n",
       "    .dataframe thead th {\n",
       "        text-align: right;\n",
       "    }\n",
       "</style>\n",
       "<table border=\"1\" class=\"dataframe\">\n",
       "  <thead>\n",
       "    <tr style=\"text-align: right;\">\n",
       "      <th></th>\n",
       "      <th>NaN Count</th>\n",
       "      <th>NaN Percentage (%)</th>\n",
       "    </tr>\n",
       "  </thead>\n",
       "  <tbody>\n",
       "    <tr>\n",
       "      <th>crs28992res100m</th>\n",
       "      <td>0</td>\n",
       "      <td>0.000000</td>\n",
       "    </tr>\n",
       "    <tr>\n",
       "      <th>aantal_inwoners</th>\n",
       "      <td>64</td>\n",
       "      <td>0.918221</td>\n",
       "    </tr>\n",
       "    <tr>\n",
       "      <th>aantal_inwoners_0_tot_15_jaar</th>\n",
       "      <td>1597</td>\n",
       "      <td>22.912482</td>\n",
       "    </tr>\n",
       "    <tr>\n",
       "      <th>aantal_inwoners_15_tot_25_jaar</th>\n",
       "      <td>1848</td>\n",
       "      <td>26.513630</td>\n",
       "    </tr>\n",
       "    <tr>\n",
       "      <th>aantal_inwoners_25_tot_45_jaar</th>\n",
       "      <td>873</td>\n",
       "      <td>12.525108</td>\n",
       "    </tr>\n",
       "    <tr>\n",
       "      <th>aantal_inwoners_45_tot_65_jaar</th>\n",
       "      <td>842</td>\n",
       "      <td>12.080344</td>\n",
       "    </tr>\n",
       "    <tr>\n",
       "      <th>aantal_inwoners_65_jaar_en_ouder</th>\n",
       "      <td>1801</td>\n",
       "      <td>25.839311</td>\n",
       "    </tr>\n",
       "    <tr>\n",
       "      <th>percentage_nederlandse_achtergrond</th>\n",
       "      <td>489</td>\n",
       "      <td>7.015782</td>\n",
       "    </tr>\n",
       "    <tr>\n",
       "      <th>percentage_westerse_migr_achtergr</th>\n",
       "      <td>1379</td>\n",
       "      <td>19.784792</td>\n",
       "    </tr>\n",
       "    <tr>\n",
       "      <th>percentage_niet_westerse_migr_achtergr</th>\n",
       "      <td>1229</td>\n",
       "      <td>17.632712</td>\n",
       "    </tr>\n",
       "    <tr>\n",
       "      <th>aantal_woningen</th>\n",
       "      <td>682</td>\n",
       "      <td>9.784792</td>\n",
       "    </tr>\n",
       "    <tr>\n",
       "      <th>gemiddelde_woz_waarde_woning</th>\n",
       "      <td>843</td>\n",
       "      <td>12.094692</td>\n",
       "    </tr>\n",
       "    <tr>\n",
       "      <th>geometry</th>\n",
       "      <td>0</td>\n",
       "      <td>0.000000</td>\n",
       "    </tr>\n",
       "  </tbody>\n",
       "</table>\n",
       "</div>"
      ],
      "text/plain": [
       "                                        NaN Count  NaN Percentage (%)\n",
       "crs28992res100m                                 0            0.000000\n",
       "aantal_inwoners                                64            0.918221\n",
       "aantal_inwoners_0_tot_15_jaar                1597           22.912482\n",
       "aantal_inwoners_15_tot_25_jaar               1848           26.513630\n",
       "aantal_inwoners_25_tot_45_jaar                873           12.525108\n",
       "aantal_inwoners_45_tot_65_jaar                842           12.080344\n",
       "aantal_inwoners_65_jaar_en_ouder             1801           25.839311\n",
       "percentage_nederlandse_achtergrond            489            7.015782\n",
       "percentage_westerse_migr_achtergr            1379           19.784792\n",
       "percentage_niet_westerse_migr_achtergr       1229           17.632712\n",
       "aantal_woningen                               682            9.784792\n",
       "gemiddelde_woz_waarde_woning                  843           12.094692\n",
       "geometry                                        0            0.000000"
      ]
     },
     "execution_count": 37,
     "metadata": {},
     "output_type": "execute_result"
    }
   ],
   "source": [
    "nan_summary"
   ]
  }
 ],
 "metadata": {
  "kernelspec": {
   "display_name": "sensing_env",
   "language": "python",
   "name": "python3"
  },
  "language_info": {
   "codemirror_mode": {
    "name": "ipython",
    "version": 3
   },
   "file_extension": ".py",
   "mimetype": "text/x-python",
   "name": "python",
   "nbconvert_exporter": "python",
   "pygments_lexer": "ipython3",
   "version": "3.12.3"
  }
 },
 "nbformat": 4,
 "nbformat_minor": 5
}
