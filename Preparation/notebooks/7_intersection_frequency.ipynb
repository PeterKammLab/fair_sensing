{
 "cells": [
  {
   "cell_type": "markdown",
   "id": "00a5f951",
   "metadata": {},
   "source": [
    "### See Frequencies for Real-time"
   ]
  },
  {
   "cell_type": "markdown",
   "id": "09cf46b0",
   "metadata": {},
   "source": [
    "### Libraries"
   ]
  },
  {
   "cell_type": "code",
   "execution_count": 1,
   "id": "3e54cb9b",
   "metadata": {},
   "outputs": [],
   "source": [
    "# import libraries\n",
    "import os\n",
    "import sys\n",
    "import time\n",
    "import pandas as pd\n",
    "import numpy as np\n",
    "import matplotlib.pyplot as plt\n",
    "import random\n",
    "import geopandas as gpd\n",
    "import shapely\n",
    "from sklearn.linear_model import LinearRegression\n",
    "from sklearn.impute import SimpleImputer\n",
    "from shapely import wkt\n"
   ]
  },
  {
   "cell_type": "markdown",
   "id": "53dd40d6",
   "metadata": {},
   "source": [
    "### Load Set Interpolated GTFS realtime Points and CBS"
   ]
  },
  {
   "cell_type": "code",
   "execution_count": 4,
   "id": "afb7aeff",
   "metadata": {},
   "outputs": [],
   "source": [
    "def prepare_points_for_join(gdf_cbs: gpd.GeoDataFrame, points_realtime: gpd.GeoDataFrame) -> gpd.GeoDataFrame:\n",
    "    \"\"\"\n",
    "    Prepare snapped points for spatial join with CBS data:\n",
    "    - Reproject points to match CBS CRS (EPSG:28992)\n",
    "    - Add unique 7-digit ID\n",
    "    - Place ID as the first column\n",
    "    \"\"\"\n",
    "    # Reproject points if needed\n",
    "    if gdf_cbs.crs != points_realtime.crs:\n",
    "        points_realtime = points_realtime.to_crs(gdf_cbs.crs)\n",
    "    \n",
    "    # Add unique ID\n",
    "    points_realtime[\"id\"] = (points_realtime.index + 1).astype(str).str.zfill(7)\n",
    "    \n",
    "    # Reorder columns: ID first\n",
    "    points_realtime = points_realtime[[\"id\"] + [col for col in points_realtime.columns if col != \"id\"]]\n",
    "    \n",
    "    return points_realtime\n"
   ]
  },
  {
   "cell_type": "markdown",
   "id": "50c106f3",
   "metadata": {},
   "source": [
    "### PAPER ** buffer set to 50, so 100 meters is the covered area + additional if touching\n",
    "- It's more realistic for sensing - \n",
    "- Modular - based on the application in real-time\n",
    "- In paper - only show how it varies on the lines.... 50 - 100 - 250"
   ]
  },
  {
   "cell_type": "code",
   "execution_count": 6,
   "id": "8c74e8cc",
   "metadata": {},
   "outputs": [],
   "source": [
    "def create_buffer(points_realtime: gpd.GeoDataFrame, buffer_distance: float = 50) -> gpd.GeoDataFrame:\n",
    "    \"\"\"\n",
    "    Create buffer zones around snapped points.\n",
    "\n",
    "    Parameters:\n",
    "    - points_realtime : GeoDataFrame of snapped points\n",
    "    - buffer_distance : buffer size in meters (default 50)\n",
    "\n",
    "    Returns:\n",
    "    - GeoDataFrame with buffer geometries\n",
    "    \"\"\"\n",
    "    buffered = points_realtime.copy()\n",
    "    buffered[\"geometry\"] = buffered.geometry.buffer(buffer_distance)\n",
    "    return buffered\n"
   ]
  },
  {
   "cell_type": "markdown",
   "id": "d9a072a7",
   "metadata": {},
   "source": [
    "### Intersection with buffers of polygons and CBS grid\n",
    "\n",
    "- The right one\n",
    "- Intersection = touching or within geometries"
   ]
  },
  {
   "cell_type": "code",
   "execution_count": 8,
   "id": "0b28b7e1",
   "metadata": {},
   "outputs": [],
   "source": [
    "def spatial_join_intersections(buffer_points: gpd.GeoDataFrame, gdf_cbs: gpd.GeoDataFrame) -> pd.DataFrame:\n",
    "    \"\"\"\n",
    "    Perform spatial join between buffered points and CBS areas.\n",
    "    Adds list of intersecting 'crs28992' values and their count per point.\n",
    "\n",
    "    Parameters:\n",
    "    - buffer_points : buffered points GeoDataFrame\n",
    "    - gdf_cbs : CBS GeoDataFrame with 'crs28992' and 'geometry'\n",
    "\n",
    "    Returns:\n",
    "    - DataFrame with 'id', 'crs28992_list', and 'count_crs28992' (no geometry)\n",
    "    \"\"\"\n",
    "    joined = gpd.sjoin(buffer_points, gdf_cbs[['crs28992', 'geometry']], how=\"left\", predicate=\"intersects\")\n",
    "\n",
    "    crs_lists = joined.groupby('id')['crs28992']\\\n",
    "        .apply(lambda x: list(x.dropna()) if not x.isna().all() else np.nan)\\\n",
    "        .reset_index()\\\n",
    "        .rename(columns={'crs28992': 'crs28992_list'})\n",
    "\n",
    "    intersected_points = buffer_points.merge(crs_lists, on='id', how='left')\n",
    "    intersected_points['count_crs28992'] = intersected_points['crs28992_list'].apply(lambda x: len(x) if isinstance(x, list) else 0)\n",
    "    intersected_points = intersected_points.drop(columns=['geometry'])\n",
    "    \n",
    "    return intersected_points\n"
   ]
  },
  {
   "cell_type": "markdown",
   "id": "bae07c65",
   "metadata": {},
   "source": [
    "#### Amount of CBS cells per point"
   ]
  },
  {
   "cell_type": "markdown",
   "id": "2d8c7d4d",
   "metadata": {},
   "source": [
    "### Group by GTFS realtime Points\n",
    "- Grouped by ID and for each list of covering (with buffer) CBS cells\n",
    "\n",
    "- all good until here!"
   ]
  },
  {
   "cell_type": "markdown",
   "id": "22391250",
   "metadata": {},
   "source": [
    "#### Generate Intervals ***PAPER\n",
    "\n",
    "\n",
    "- Calculate exact frequencies / number of measurements per hour as relevant unit (we will not differentiate for minutes intervals) - leading to average per hour, or minumum per hour! e.g. 5 - 10 needed\n",
    "- Referece WHO guidelines, Eddy's paper, for air-quality PM, NOx, CO, or temperature, humidity, noice\n",
    "- Unix timestamps were converted to datetime objects, from which the hour was extracted. Each record was then assigned an hourly interval (e.g., 08:00–08:59 becomes \"8-9\") to facilitate hourly aggregation and analysis."
   ]
  },
  {
   "cell_type": "code",
   "execution_count": 17,
   "id": "10f31b3a",
   "metadata": {},
   "outputs": [],
   "source": [
    "def finalize_intersections(intersected_points: pd.DataFrame, points: gpd.GeoDataFrame) -> pd.DataFrame:\n",
    "    \"\"\"\n",
    "    Finalize intersected points:\n",
    "    - Add geometry back from original points using 'id'\n",
    "    - Filter out non-intersecting points (count_crs28992 > 0)\n",
    "    - Convert 'new_timest' to datetime and create hourly intervals\n",
    "\n",
    "    Parameters:\n",
    "    - intersected_points : DataFrame with intersected results\n",
    "    - points : original points GeoDataFrame (with 'id' and 'geometry')\n",
    "\n",
    "    Returns:\n",
    "    - Cleaned DataFrame with geometry, intervals, and filtered rows\n",
    "    \"\"\"\n",
    "    # Add geometry\n",
    "    intersected_points = intersected_points.merge(points[['id', 'geometry']], on='id', how='left', suffixes=('', '_points'))\n",
    "\n",
    "    # Reorder columns\n",
    "    grouped_by_points = intersected_points[['id', 'uni_id', 'route_id_left', 'new_timest', 'trip_id', 'route_type_left',\n",
    "                                            'crs28992_list', 'count_crs28992', 'geometry']]\n",
    "\n",
    "    # Filter only points with intersections\n",
    "    grouped_by_points = grouped_by_points[grouped_by_points['count_crs28992'] > 0]\n",
    "\n",
    "    # Convert timestamp and create interval column\n",
    "    grouped_by_points['timestamp'] = pd.to_datetime(grouped_by_points['new_timest'], unit='s')\n",
    "    grouped_by_points['interval'] = grouped_by_points['timestamp'].apply(lambda dt: f\"{dt.hour}-{(dt.hour + 1) % 24}\")\n",
    "\n",
    "    # put geometry in the last column\n",
    "    grouped_by_points = grouped_by_points[['id', 'uni_id', 'route_id_left', 'new_timest', 'trip_id', 'route_type_left',\n",
    "                                            'crs28992_list', 'count_crs28992', 'interval', 'geometry']]\n",
    "\n",
    "    # transform grouped_by_points to gdf\n",
    "    grouped_by_points = gpd.GeoDataFrame(grouped_by_points, geometry='geometry', crs=points.crs)\n",
    "    # set amersfoort as crs\n",
    "    grouped_by_points.crs = \"EPSG:28992\"\n",
    "\n",
    "    return grouped_by_points\n"
   ]
  },
  {
   "cell_type": "code",
   "execution_count": null,
   "id": "f8009ef0",
   "metadata": {},
   "outputs": [],
   "source": [
    "# # save to shape file\n",
    "# grouped_by_points.to_file(\"data/grouped_by_points_CBS_1503.shp\")"
   ]
  },
  {
   "cell_type": "markdown",
   "id": "1ef504d8",
   "metadata": {},
   "source": [
    "#### Double-Checked - Lower Number\n",
    "\n",
    "- Why is this number less than the initial number of points 2.7 million(s)\n",
    "- Is it because inner join = less only when matching! (INTERSECTION)\n",
    "- Some lines/points are far away from the cbs grid (even with buffer) - yes it's outside of the municipality border even weesp etc. \n",
    "- 2741836 total points – 2125884 intersected points = 616952 did not intersect anything Those 616,952 buffers had no overlap with any CBS cell → excluded."
   ]
  },
  {
   "cell_type": "markdown",
   "id": "e3d6df7e",
   "metadata": {},
   "source": [
    "## Group by CBS cells\n",
    "\n",
    "- for counting amount of points covering each cell in time \n",
    "- ergo **frequencies**"
   ]
  },
  {
   "cell_type": "markdown",
   "id": "4f09d7e8",
   "metadata": {},
   "source": [
    "#### Add Interval column for time\n",
    "\n",
    "#### Generate Intervals ***PAPER\n",
    "\n",
    "\n",
    "- same code again - maybe not needed\n",
    "- Keep for now"
   ]
  },
  {
   "cell_type": "markdown",
   "id": "08a276ec",
   "metadata": {},
   "source": [
    "#### Introduce new dataframe crs_count for grouping by CBS"
   ]
  },
  {
   "cell_type": "code",
   "execution_count": 34,
   "id": "6aade6f1",
   "metadata": {},
   "outputs": [],
   "source": [
    "def group_points_by_cbs_and_intervals(intersected_points: gpd.GeoDataFrame,\n",
    "                                      gdf_cbs: gpd.GeoDataFrame) -> gpd.GeoDataFrame:\n",
    "    # Convert Unix timestamp → datetime\n",
    "    intersected_points['timestamp'] = pd.to_datetime(intersected_points['new_timest'], unit='s')\n",
    "    # Create hourly interval “H-H+1”\n",
    "    intersected_points['interval'] = (\n",
    "        intersected_points['timestamp'].dt.hour.astype(str)\n",
    "        + '-'\n",
    "        + ((intersected_points['timestamp'].dt.hour + 1) % 24).astype(str)\n",
    "    )\n",
    "\n",
    "    # 1. Explode list → one row per CBS cell\n",
    "    df = (\n",
    "        intersected_points\n",
    "        .dropna(subset=['crs28992_list'])\n",
    "        .explode('crs28992_list')\n",
    "        .rename(columns={'crs28992_list': 'crs28992'})\n",
    "    )\n",
    "\n",
    "    # 2. Count per cell & interval\n",
    "    counts = (\n",
    "        df\n",
    "        .groupby(['crs28992', 'interval'])\n",
    "        .size()\n",
    "        .reset_index(name='count')\n",
    "    )\n",
    "\n",
    "    # 3. Pivot wide, fill & sum\n",
    "    pivot = (\n",
    "        counts\n",
    "        .pivot(index='crs28992', columns='interval', values='count')\n",
    "        .fillna(0)\n",
    "        .astype(int)\n",
    "    )\n",
    "    pivot['count'] = pivot.sum(axis=1)\n",
    "\n",
    "    # 4. Merge back to CBS grid\n",
    "    result = gdf_cbs.merge(pivot, on='crs28992', how='left').fillna(0)\n",
    "\n",
    "    # 5. Reorder columns (5‑6 → 4‑5), then total & geometry\n",
    "    hour_cols = [\n",
    "        \"5-6\",\"6-7\",\"7-8\",\"8-9\",\"9-10\",\"10-11\",\"11-12\",\"12-13\",\n",
    "        \"13-14\",\"14-15\",\"15-16\",\"16-17\",\"17-18\",\"18-19\",\"19-20\",\n",
    "        \"20-21\",\"21-22\",\"22-23\",\"23-0\",\"0-1\",\"1-2\",\"2-3\",\"3-4\",\"4-5\"\n",
    "    ]\n",
    "    cols = ['crs28992'] + [h for h in hour_cols if h in result.columns] + ['count', 'geometry']\n",
    "    return result[cols]\n"
   ]
  },
  {
   "cell_type": "code",
   "execution_count": 43,
   "id": "3e171f90",
   "metadata": {},
   "outputs": [],
   "source": [
    "# save to shape file\n",
    "# crs_interval_counts.to_file(\"interval_counts_1503_all.shp\") "
   ]
  },
  {
   "cell_type": "markdown",
   "id": "f037ac63",
   "metadata": {},
   "source": [
    "## FINAL FUNCTION | "
   ]
  },
  {
   "cell_type": "markdown",
   "id": "b0b3bd90",
   "metadata": {},
   "source": [
    "### INPUT DATA: CBS_GDF FULL CLEANED\n",
    "### INPUT DATA: POINTS_SNAPPED (Agency, Timeframe)\n",
    "### OUTPUT DATA: GRUOPED BY POINTS (CBS lists, intervals)\n",
    "### OUTPUT DATA  CBS INTERVAL COUNS (Per CBS)"
   ]
  },
  {
   "cell_type": "code",
   "execution_count": 44,
   "id": "db1a51e5",
   "metadata": {},
   "outputs": [],
   "source": [
    "def process_realtime_with_cbs(gdf_cbs: gpd.GeoDataFrame, points_realtime: gpd.GeoDataFrame, buffer_size: float = 50):\n",
    "    \"\"\"\n",
    "    Full in-memory pipeline to process realtime snapped points to CBS aggregation.\n",
    "\n",
    "    Steps:\n",
    "    1. Prepare points and assign IDs.\n",
    "    2. Create buffer around points.\n",
    "    3. Perform spatial join to find intersections with CBS cells.\n",
    "    4. Finalize intersections (add geometry, intervals).\n",
    "    5. Group by CBS cells and intervals.\n",
    "\n",
    "    Parameters:\n",
    "    - gdf_cbs : GeoDataFrame of CBS cells with 'crs28992' and 'geometry'\n",
    "    - points_realtime : GeoDataFrame of snapped points\n",
    "    - buffer_size : buffer distance in meters (default 50)\n",
    "\n",
    "    Returns:\n",
    "    - grouped_by_points : DataFrame with intersected points, intervals, geometry\n",
    "    - cbs_interval_counts : GeoDataFrame with counts per CBS cell and intervals\n",
    "    \"\"\"\n",
    "\n",
    "    points_prepared = prepare_points_for_join(gdf_cbs, points_realtime)\n",
    "    buffer = create_buffer(points_prepared, buffer_size)\n",
    "    intersected_points = spatial_join_intersections(buffer, gdf_cbs)\n",
    "    grouped_by_points = finalize_intersections(intersected_points, points_prepared)\n",
    "    cbs_interval_counts = group_points_by_cbs_and_intervals(intersected_points, gdf_cbs)\n",
    "\n",
    "    return grouped_by_points, cbs_interval_counts\n"
   ]
  },
  {
   "cell_type": "code",
   "execution_count": 45,
   "id": "eb87bdb9",
   "metadata": {},
   "outputs": [],
   "source": [
    "# Usage \n",
    "gdf_cbs = gpd.read_file(\"cbs_full.shp\")\n",
    "points_realtime = gpd.read_file(\"data/snapped_ams_1503_no_duplicates.gpkg\")\n",
    "\n",
    "grouped_by_points_GVB, cbs_interval_counts_GVB = process_realtime_with_cbs(gdf_cbs, points_realtime) \n"
   ]
  }
 ],
 "metadata": {
  "kernelspec": {
   "display_name": "sensing_env",
   "language": "python",
   "name": "python3"
  },
  "language_info": {
   "codemirror_mode": {
    "name": "ipython",
    "version": 3
   },
   "file_extension": ".py",
   "mimetype": "text/x-python",
   "name": "python",
   "nbconvert_exporter": "python",
   "pygments_lexer": "ipython3",
   "version": "3.12.3"
  }
 },
 "nbformat": 4,
 "nbformat_minor": 5
}
